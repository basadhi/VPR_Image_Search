{
  "cells": [
    {
      "cell_type": "markdown",
      "metadata": {
        "id": "view-in-github",
        "colab_type": "text"
      },
      "source": [
        "<a href=\"https://colab.research.google.com/github/basadhi/VPR_Image_Search/blob/main/VPR_image_search.ipynb\" target=\"_parent\"><img src=\"https://colab.research.google.com/assets/colab-badge.svg\" alt=\"Open In Colab\"/></a>"
      ]
    },
    {
      "cell_type": "markdown",
      "metadata": {
        "id": "_ItYq-H-tD0G"
      },
      "source": [
        "# Visual product recognition model develop\n",
        "\n",
        "**Group 25**"
      ]
    },
    {
      "cell_type": "markdown",
      "metadata": {
        "id": "aTnCrPxytD0J"
      },
      "source": [
        "## Introduction\n",
        "\n",
        "The example demonstrates how to build an encoder neural network\n",
        "model to search for images using sample image. The model is inspired by\n",
        "the [CLIP](https://openai.com/blog/clip/)\n",
        "approach, introduced by Alec Radford et al. The idea is to train a vision encoder to project the representation of images a same embedding\n",
        "space, such that the image embeddings are located near the similar embeddings of the images they describe.\n",
        "\n",
        "This example requires TensorFlow 2.4 or higher.\n",
        "In addition, [TensorFlow Hub](https://www.tensorflow.org/hub)\n",
        " and [TensorFlow Addons](https://www.tensorflow.org/addons)\n",
        "is required for the AdamW optimizer. These libraries can be installed using the\n",
        "following command:\n",
        "\n",
        "```python\n",
        "pip install -q -U tensorflow-hub tensorflow-text tensorflow-addons\n",
        "```"
      ]
    },
    {
      "cell_type": "markdown",
      "metadata": {
        "id": "jkfuIhzPtD0K"
      },
      "source": [
        "## Setup"
      ]
    },
    {
      "cell_type": "code",
      "execution_count": 1,
      "metadata": {
        "id": "byy7cpuAtD0L"
      },
      "outputs": [],
      "source": [
        "import os\n",
        "import collections\n",
        "import json\n",
        "import numpy as np\n",
        "import tensorflow as tf\n",
        "from tensorflow import keras\n",
        "from tensorflow.keras import layers\n",
        "import tensorflow_hub as hub\n",
        "\n",
        "import matplotlib.pyplot as plt\n",
        "import matplotlib.image as mpimg\n",
        "from tqdm import tqdm\n",
        "\n",
        "# Suppressing tf.hub warnings\n",
        "tf.get_logger().setLevel(\"ERROR\")"
      ]
    },
    {
      "cell_type": "markdown",
      "metadata": {
        "id": "1KrhxfvAtD0M"
      },
      "source": [
        "## Prepare the data\n",
        "\n",
        "We will use the [MS-COCO](https://cocodataset.org/#home) dataset to train our\n",
        "dual encoder model. MS-COCO contains over 82,000 images, each of which has at least\n",
        "5 different caption annotations. The dataset is usually used for\n",
        "[image captioning](https://www.tensorflow.org/tutorials/text/image_captioning)\n",
        "tasks, but we can repurpose the image-caption pairs to train our dual encoder\n",
        "model for image search.\n",
        "\n",
        "###\n",
        "Download and extract the data\n",
        "\n",
        "First, let's download the dataset, which consists of two compressed folders:\n",
        "one with images, and the other—with associated image captions.\n",
        "Note that the compressed images folder is 13GB in size."
      ]
    },
    {
      "cell_type": "code",
      "execution_count": 2,
      "metadata": {
        "id": "5NWPryLwtD0N",
        "colab": {
          "base_uri": "https://localhost:8080/"
        },
        "outputId": "a6f6b207-691a-40ff-869e-0e7b362fc3ed"
      },
      "outputs": [
        {
          "output_type": "stream",
          "name": "stdout",
          "text": [
            "Mounted at /content/drive\n"
          ]
        }
      ],
      "source": [
        "from google.colab import drive\n",
        "drive.mount('/content/drive')"
      ]
    },
    {
      "cell_type": "code",
      "source": [
        "# !gdown 1AqQVhmEkb8NvnoGodZdHydagpizMSWaU"
      ],
      "metadata": {
        "id": "Y-f4tw71vV3X"
      },
      "execution_count": null,
      "outputs": []
    },
    {
      "cell_type": "code",
      "source": [
        "%%capture\n",
        "!unzip /content/drive/MyDrive/archive.zip -d /content/training-dataset/"
      ],
      "metadata": {
        "id": "gBA9mEWYwriS"
      },
      "execution_count": 3,
      "outputs": []
    },
    {
      "cell_type": "code",
      "source": [
        "!rm /content/archive.zip"
      ],
      "metadata": {
        "colab": {
          "base_uri": "https://localhost:8080/"
        },
        "id": "8r9vWaouwtkn",
        "outputId": "78ada752-f29a-499c-8f29-6ec6209d0064"
      },
      "execution_count": null,
      "outputs": [
        {
          "output_type": "stream",
          "name": "stdout",
          "text": [
            "rm: cannot remove '/content/archive.zip': No such file or directory\n"
          ]
        }
      ]
    },
    {
      "cell_type": "code",
      "source": [
        "!mv \"/content/training-dataset/train/train\" \"/content/\"\n",
        "!mv \"/content/training-dataset/test/test\" \"/content/\"\n",
        "\n",
        "!rmdir \"/content/training-dataset/train\"\n",
        "!rmdir \"/content/training-dataset/test\"\n",
        "\n",
        "!mv \"/content/train\" \"/content/training-dataset/\"\n",
        "!mv \"/content/test\" \"/content/training-dataset/\""
      ],
      "metadata": {
        "colab": {
          "base_uri": "https://localhost:8080/"
        },
        "id": "m4iZIfFDwuOi",
        "outputId": "f9810101-6657-41de-f715-6e6d86244b47"
      },
      "execution_count": null,
      "outputs": [
        {
          "output_type": "stream",
          "name": "stdout",
          "text": [
            "mv: cannot stat '/content/training-dataset/train/train': No such file or directory\n",
            "mv: cannot stat '/content/training-dataset/test/test': No such file or directory\n",
            "rmdir: failed to remove '/content/training-dataset/train': Directory not empty\n",
            "rmdir: failed to remove '/content/training-dataset/test': Directory not empty\n",
            "mv: cannot stat '/content/train': No such file or directory\n",
            "mv: cannot stat '/content/test': No such file or directory\n"
          ]
        }
      ]
    },
    {
      "cell_type": "code",
      "source": [
        "! gdown 1OpTvvc66Olx4P2oktK40emmJ99E0h0jF"
      ],
      "metadata": {
        "colab": {
          "base_uri": "https://localhost:8080/"
        },
        "id": "NhEkO005wwGu",
        "outputId": "443d5d6e-64eb-423d-8016-68d2786ef945"
      },
      "execution_count": null,
      "outputs": [
        {
          "output_type": "stream",
          "name": "stdout",
          "text": [
            "Downloading...\n",
            "From: https://drive.google.com/uc?id=1OpTvvc66Olx4P2oktK40emmJ99E0h0jF\n",
            "To: /content/test-archive.zip\n",
            "100% 441M/441M [00:07<00:00, 60.8MB/s]\n"
          ]
        }
      ]
    },
    {
      "cell_type": "code",
      "source": [
        "%%capture\n",
        "!unzip /content/test-archive.zip -d /content/testing-dataset"
      ],
      "metadata": {
        "id": "yhBdefT7w3Yy"
      },
      "execution_count": null,
      "outputs": []
    },
    {
      "cell_type": "code",
      "source": [
        "!rm /content/test-archive.zip"
      ],
      "metadata": {
        "id": "f98mkIW2w4hu"
      },
      "execution_count": null,
      "outputs": []
    },
    {
      "cell_type": "code",
      "source": [
        "!mv \"/content/testing-dataset/development_test_data/gallery\" \"/content/\"\n",
        "!mv \"/content/testing-dataset/development_test_data/queries/\" \"/content/\"\n",
        "!mv \"/content/testing-dataset/development_test_data/gallery.csv\" \"/content/\"\n",
        "!mv \"/content/testing-dataset/development_test_data/queries.csv\" \"/content/\"\n",
        "\n",
        "!rmdir \"/content/testing-dataset/development_test_data\"\n",
        "\n",
        "!mv \"/content/gallery\" \"/content/testing-dataset/\"\n",
        "!mv \"/content/queries\" \"/content/testing-dataset/\"\n",
        "!mv \"/content/gallery.csv\" \"/content/testing-dataset/\"\n",
        "!mv \"/content/queries.csv\" \"/content/testing-dataset/\""
      ],
      "metadata": {
        "colab": {
          "base_uri": "https://localhost:8080/"
        },
        "id": "Lb5ViLI-w6QR",
        "outputId": "e774b643-27f2-40f2-cd69-2fb968e4fa6d"
      },
      "execution_count": null,
      "outputs": [
        {
          "output_type": "stream",
          "name": "stdout",
          "text": [
            "mv: cannot move '/content/testing-dataset/development_test_data/gallery' to '/content/gallery': Directory not empty\n",
            "mv: cannot move '/content/testing-dataset/development_test_data/queries/' to '/content/queries': Directory not empty\n",
            "rmdir: failed to remove '/content/testing-dataset/development_test_data': Directory not empty\n",
            "mv: cannot move '/content/gallery' to '/content/testing-dataset/gallery': Directory not empty\n",
            "mv: cannot move '/content/queries' to '/content/testing-dataset/queries': Directory not empty\n"
          ]
        }
      ]
    },
    {
      "cell_type": "code",
      "source": [
        "import os\n",
        "\n",
        "# Path to your image dataset directory\n",
        "dataset_dir = '/content/training-dataset/train'\n",
        "\n",
        "# List all image files in the dataset directory\n",
        "image_files = [f for f in os.listdir(dataset_dir) if f.endswith('.jpg') or f.endswith('.png')]\n",
        "\n",
        "# Count the number of image files\n",
        "num_images = len(image_files)\n",
        "\n",
        "print(f'Total number of images in the dataset: {num_images}')\n"
      ],
      "metadata": {
        "colab": {
          "base_uri": "https://localhost:8080/"
        },
        "id": "wzUcRHQg106U",
        "outputId": "c62e2f01-307c-454e-a662-17b1b33c5c2a"
      },
      "execution_count": null,
      "outputs": [
        {
          "output_type": "stream",
          "name": "stdout",
          "text": [
            "Total number of images in the dataset: 141931\n"
          ]
        }
      ]
    },
    {
      "cell_type": "code",
      "source": [
        "# import os\n",
        "import shutil\n",
        "\n",
        "# Path to your original image dataset directory\n",
        "original_dataset_dir = '/content/training-dataset/train'\n",
        "\n",
        "# Path to the directory where you want to save the smaller subsets\n",
        "output_dir = '/content/training-dataset/NewTrain'\n",
        "\n",
        "# Number of images in each subset\n",
        "subset_size = 10000\n",
        "\n",
        "# Create the output directory if it doesn't exist\n",
        "if not os.path.exists(output_dir):\n",
        "    os.makedirs(output_dir)\n",
        "\n",
        "# List all image files in the original dataset directory\n",
        "image_files = [f for f in os.listdir(original_dataset_dir) if f.endswith('.jpg') or f.endswith('.png')]\n",
        "\n",
        "# Loop through image files and create subsets\n",
        "for i in range(0, len(image_files), subset_size):\n",
        "    subset_images = image_files[i:i + subset_size]\n",
        "    subset_dir = os.path.join(output_dir, f'subset_{i // subset_size}')\n",
        "    os.makedirs(subset_dir, exist_ok=True)\n",
        "\n",
        "    for image_file in subset_images:\n",
        "        source_path = os.path.join(original_dataset_dir, image_file)\n",
        "        target_path = os.path.join(subset_dir, image_file)\n",
        "        shutil.copy(source_path, target_path)\n",
        "\n",
        "print(\"Dataset has been broken into subsets.\")\n"
      ],
      "metadata": {
        "id": "xHKhHNLK101N",
        "colab": {
          "base_uri": "https://localhost:8080/"
        },
        "outputId": "774f81f6-310a-4272-cded-ba0d91f21654"
      },
      "execution_count": null,
      "outputs": [
        {
          "output_type": "stream",
          "name": "stdout",
          "text": [
            "Dataset has been broken into subsets.\n"
          ]
        }
      ]
    },
    {
      "cell_type": "code",
      "source": [
        "\n",
        "\n",
        "# Path to the folder containing images you want to delete\n",
        "folder_to_delete = '/content/training-dataset/train'\n",
        "\n",
        "# List all image files in the folder\n",
        "image_files = [f for f in os.listdir(folder_to_delete) if f.endswith('.jpg') or f.endswith('.png')]\n",
        "\n",
        "# Delete each image file\n",
        "for image_file in image_files:\n",
        "    image_path = os.path.join(folder_to_delete, image_file)\n",
        "    os.remove(image_path)\n",
        "\n",
        "print(f\"All images in {folder_to_delete} have been deleted.\")\n"
      ],
      "metadata": {
        "id": "Y_Lc0Qhj6R62",
        "colab": {
          "base_uri": "https://localhost:8080/"
        },
        "outputId": "e5435c6b-24bc-46ea-acbf-fb76e725aa6c"
      },
      "execution_count": null,
      "outputs": [
        {
          "output_type": "stream",
          "name": "stdout",
          "text": [
            "All images in /content/training-dataset/train have been deleted.\n"
          ]
        }
      ]
    },
    {
      "cell_type": "markdown",
      "metadata": {
        "id": "JP2WkHlltD0N"
      },
      "source": [
        "### Process and save the data to TFRecord files\n",
        "\n",
        "You can change the `sample_size` parameter to control many image-caption pairs\n",
        "will be used for training the dual encoder model.\n",
        "In this example we set `train_size` to 30,000 images,\n",
        "which is about 35% of the dataset. We use 2 captions for each\n",
        "image, thus producing 60,000 image-caption pairs. The size of the training set\n",
        "affects the quality of the produced encoders, but more examples would lead to\n",
        "longer training time."
      ]
    },
    {
      "cell_type": "code",
      "source": [
        "# import os\n",
        "# import tensorflow as tf\n",
        "\n",
        "# Path to the image folder\n",
        "image_folder = '/content/training-dataset/NewTrain/subset_0'\n",
        "\n",
        "# Path to save TFRecord files\n",
        "tfrecords_dir = '/content/training-dataset/Tfrecords'\n",
        "\n",
        "# Create the TFRecords directory if it doesn't exist\n",
        "if not os.path.exists(tfrecords_dir):\n",
        "    os.makedirs(tfrecords_dir)\n",
        "\n",
        "# List all image files in the folder\n",
        "image_files = [f for f in os.listdir(image_folder) if f.endswith('.jpg') or f.endswith('.png')]\n",
        "\n",
        "# Define function to read and preprocess images\n",
        "def preprocess_image(image_path):\n",
        "    # Load and preprocess your image (resize, normalize, etc.)\n",
        "    # Return the preprocessed image data as bytes\n",
        "    with open(image_path, 'rb') as f:\n",
        "        image_data = f.read()\n",
        "    return image_data\n",
        "\n",
        "# Create and write images to TFRecord files\n",
        "tfrecord_count = 0\n",
        "images_per_tfrecord = 100  # Number of images per TFRecord file\n",
        "\n",
        "for i in range(0, len(image_files), images_per_tfrecord):\n",
        "    tfrecord_filename = os.path.join(tfrecords_dir, f'images_{tfrecord_count}.tfrecord')\n",
        "    with tf.io.TFRecordWriter(tfrecord_filename) as writer:\n",
        "        for image_file in image_files[i:i + images_per_tfrecord]:\n",
        "            image_path = os.path.join(image_folder, image_file)\n",
        "            image_data = preprocess_image(image_path)\n",
        "\n",
        "            # Create a feature dictionary\n",
        "            feature_dict = {\n",
        "                'image': tf.train.Feature(bytes_list=tf.train.BytesList(value=[image_data]))\n",
        "            }\n",
        "\n",
        "            # Create an Example\n",
        "            example = tf.train.Example(features=tf.train.Features(feature=feature_dict))\n",
        "\n",
        "            # Serialize and write the Example to the TFRecord file\n",
        "            writer.write(example.SerializeToString())\n",
        "\n",
        "        print(f'TFRecord file {tfrecord_filename} created')\n",
        "        tfrecord_count += 1\n"
      ],
      "metadata": {
        "id": "8gVLsG9S63Zz",
        "colab": {
          "base_uri": "https://localhost:8080/"
        },
        "outputId": "423712f3-775d-41a4-93dc-bc4c2911bf14"
      },
      "execution_count": null,
      "outputs": [
        {
          "output_type": "stream",
          "name": "stdout",
          "text": [
            "TFRecord file /content/training-dataset/Tfrecords/images_0.tfrecord created\n",
            "TFRecord file /content/training-dataset/Tfrecords/images_1.tfrecord created\n",
            "TFRecord file /content/training-dataset/Tfrecords/images_2.tfrecord created\n",
            "TFRecord file /content/training-dataset/Tfrecords/images_3.tfrecord created\n",
            "TFRecord file /content/training-dataset/Tfrecords/images_4.tfrecord created\n",
            "TFRecord file /content/training-dataset/Tfrecords/images_5.tfrecord created\n",
            "TFRecord file /content/training-dataset/Tfrecords/images_6.tfrecord created\n",
            "TFRecord file /content/training-dataset/Tfrecords/images_7.tfrecord created\n",
            "TFRecord file /content/training-dataset/Tfrecords/images_8.tfrecord created\n",
            "TFRecord file /content/training-dataset/Tfrecords/images_9.tfrecord created\n",
            "TFRecord file /content/training-dataset/Tfrecords/images_10.tfrecord created\n",
            "TFRecord file /content/training-dataset/Tfrecords/images_11.tfrecord created\n",
            "TFRecord file /content/training-dataset/Tfrecords/images_12.tfrecord created\n",
            "TFRecord file /content/training-dataset/Tfrecords/images_13.tfrecord created\n",
            "TFRecord file /content/training-dataset/Tfrecords/images_14.tfrecord created\n",
            "TFRecord file /content/training-dataset/Tfrecords/images_15.tfrecord created\n",
            "TFRecord file /content/training-dataset/Tfrecords/images_16.tfrecord created\n",
            "TFRecord file /content/training-dataset/Tfrecords/images_17.tfrecord created\n",
            "TFRecord file /content/training-dataset/Tfrecords/images_18.tfrecord created\n",
            "TFRecord file /content/training-dataset/Tfrecords/images_19.tfrecord created\n",
            "TFRecord file /content/training-dataset/Tfrecords/images_20.tfrecord created\n",
            "TFRecord file /content/training-dataset/Tfrecords/images_21.tfrecord created\n",
            "TFRecord file /content/training-dataset/Tfrecords/images_22.tfrecord created\n",
            "TFRecord file /content/training-dataset/Tfrecords/images_23.tfrecord created\n",
            "TFRecord file /content/training-dataset/Tfrecords/images_24.tfrecord created\n",
            "TFRecord file /content/training-dataset/Tfrecords/images_25.tfrecord created\n",
            "TFRecord file /content/training-dataset/Tfrecords/images_26.tfrecord created\n",
            "TFRecord file /content/training-dataset/Tfrecords/images_27.tfrecord created\n",
            "TFRecord file /content/training-dataset/Tfrecords/images_28.tfrecord created\n",
            "TFRecord file /content/training-dataset/Tfrecords/images_29.tfrecord created\n",
            "TFRecord file /content/training-dataset/Tfrecords/images_30.tfrecord created\n",
            "TFRecord file /content/training-dataset/Tfrecords/images_31.tfrecord created\n",
            "TFRecord file /content/training-dataset/Tfrecords/images_32.tfrecord created\n",
            "TFRecord file /content/training-dataset/Tfrecords/images_33.tfrecord created\n",
            "TFRecord file /content/training-dataset/Tfrecords/images_34.tfrecord created\n",
            "TFRecord file /content/training-dataset/Tfrecords/images_35.tfrecord created\n",
            "TFRecord file /content/training-dataset/Tfrecords/images_36.tfrecord created\n",
            "TFRecord file /content/training-dataset/Tfrecords/images_37.tfrecord created\n",
            "TFRecord file /content/training-dataset/Tfrecords/images_38.tfrecord created\n",
            "TFRecord file /content/training-dataset/Tfrecords/images_39.tfrecord created\n",
            "TFRecord file /content/training-dataset/Tfrecords/images_40.tfrecord created\n",
            "TFRecord file /content/training-dataset/Tfrecords/images_41.tfrecord created\n",
            "TFRecord file /content/training-dataset/Tfrecords/images_42.tfrecord created\n",
            "TFRecord file /content/training-dataset/Tfrecords/images_43.tfrecord created\n",
            "TFRecord file /content/training-dataset/Tfrecords/images_44.tfrecord created\n",
            "TFRecord file /content/training-dataset/Tfrecords/images_45.tfrecord created\n",
            "TFRecord file /content/training-dataset/Tfrecords/images_46.tfrecord created\n",
            "TFRecord file /content/training-dataset/Tfrecords/images_47.tfrecord created\n",
            "TFRecord file /content/training-dataset/Tfrecords/images_48.tfrecord created\n",
            "TFRecord file /content/training-dataset/Tfrecords/images_49.tfrecord created\n",
            "TFRecord file /content/training-dataset/Tfrecords/images_50.tfrecord created\n",
            "TFRecord file /content/training-dataset/Tfrecords/images_51.tfrecord created\n",
            "TFRecord file /content/training-dataset/Tfrecords/images_52.tfrecord created\n",
            "TFRecord file /content/training-dataset/Tfrecords/images_53.tfrecord created\n",
            "TFRecord file /content/training-dataset/Tfrecords/images_54.tfrecord created\n",
            "TFRecord file /content/training-dataset/Tfrecords/images_55.tfrecord created\n",
            "TFRecord file /content/training-dataset/Tfrecords/images_56.tfrecord created\n",
            "TFRecord file /content/training-dataset/Tfrecords/images_57.tfrecord created\n",
            "TFRecord file /content/training-dataset/Tfrecords/images_58.tfrecord created\n",
            "TFRecord file /content/training-dataset/Tfrecords/images_59.tfrecord created\n",
            "TFRecord file /content/training-dataset/Tfrecords/images_60.tfrecord created\n",
            "TFRecord file /content/training-dataset/Tfrecords/images_61.tfrecord created\n",
            "TFRecord file /content/training-dataset/Tfrecords/images_62.tfrecord created\n",
            "TFRecord file /content/training-dataset/Tfrecords/images_63.tfrecord created\n",
            "TFRecord file /content/training-dataset/Tfrecords/images_64.tfrecord created\n",
            "TFRecord file /content/training-dataset/Tfrecords/images_65.tfrecord created\n",
            "TFRecord file /content/training-dataset/Tfrecords/images_66.tfrecord created\n",
            "TFRecord file /content/training-dataset/Tfrecords/images_67.tfrecord created\n",
            "TFRecord file /content/training-dataset/Tfrecords/images_68.tfrecord created\n",
            "TFRecord file /content/training-dataset/Tfrecords/images_69.tfrecord created\n",
            "TFRecord file /content/training-dataset/Tfrecords/images_70.tfrecord created\n",
            "TFRecord file /content/training-dataset/Tfrecords/images_71.tfrecord created\n",
            "TFRecord file /content/training-dataset/Tfrecords/images_72.tfrecord created\n",
            "TFRecord file /content/training-dataset/Tfrecords/images_73.tfrecord created\n",
            "TFRecord file /content/training-dataset/Tfrecords/images_74.tfrecord created\n",
            "TFRecord file /content/training-dataset/Tfrecords/images_75.tfrecord created\n",
            "TFRecord file /content/training-dataset/Tfrecords/images_76.tfrecord created\n",
            "TFRecord file /content/training-dataset/Tfrecords/images_77.tfrecord created\n",
            "TFRecord file /content/training-dataset/Tfrecords/images_78.tfrecord created\n",
            "TFRecord file /content/training-dataset/Tfrecords/images_79.tfrecord created\n",
            "TFRecord file /content/training-dataset/Tfrecords/images_80.tfrecord created\n",
            "TFRecord file /content/training-dataset/Tfrecords/images_81.tfrecord created\n",
            "TFRecord file /content/training-dataset/Tfrecords/images_82.tfrecord created\n",
            "TFRecord file /content/training-dataset/Tfrecords/images_83.tfrecord created\n",
            "TFRecord file /content/training-dataset/Tfrecords/images_84.tfrecord created\n",
            "TFRecord file /content/training-dataset/Tfrecords/images_85.tfrecord created\n",
            "TFRecord file /content/training-dataset/Tfrecords/images_86.tfrecord created\n",
            "TFRecord file /content/training-dataset/Tfrecords/images_87.tfrecord created\n",
            "TFRecord file /content/training-dataset/Tfrecords/images_88.tfrecord created\n",
            "TFRecord file /content/training-dataset/Tfrecords/images_89.tfrecord created\n",
            "TFRecord file /content/training-dataset/Tfrecords/images_90.tfrecord created\n",
            "TFRecord file /content/training-dataset/Tfrecords/images_91.tfrecord created\n",
            "TFRecord file /content/training-dataset/Tfrecords/images_92.tfrecord created\n",
            "TFRecord file /content/training-dataset/Tfrecords/images_93.tfrecord created\n",
            "TFRecord file /content/training-dataset/Tfrecords/images_94.tfrecord created\n",
            "TFRecord file /content/training-dataset/Tfrecords/images_95.tfrecord created\n",
            "TFRecord file /content/training-dataset/Tfrecords/images_96.tfrecord created\n",
            "TFRecord file /content/training-dataset/Tfrecords/images_97.tfrecord created\n",
            "TFRecord file /content/training-dataset/Tfrecords/images_98.tfrecord created\n",
            "TFRecord file /content/training-dataset/Tfrecords/images_99.tfrecord created\n"
          ]
        }
      ]
    },
    {
      "cell_type": "markdown",
      "metadata": {
        "id": "TurNpO-TtD0O"
      },
      "source": [
        "### Create `tf.data.Dataset` for training and evaluation"
      ]
    },
    {
      "cell_type": "code",
      "execution_count": null,
      "metadata": {
        "id": "BFesLKwItD0P"
      },
      "outputs": [],
      "source": [
        "\n",
        "feature_description = {\n",
        "    \"caption\": tf.io.FixedLenFeature([], tf.string),\n",
        "    \"raw_image\": tf.io.FixedLenFeature([], tf.string),\n",
        "}\n",
        "\n",
        "\n",
        "def read_example(example):\n",
        "    features = tf.io.parse_single_example(example, feature_description)\n",
        "    raw_image = features.pop(\"raw_image\")\n",
        "    features[\"image\"] = tf.image.resize(\n",
        "        tf.image.decode_jpeg(raw_image, channels=3), size=(299, 299)\n",
        "    )\n",
        "    return features\n",
        "\n",
        "\n",
        "def get_dataset(file_pattern, batch_size):\n",
        "\n",
        "    return (\n",
        "        tf.data.TFRecordDataset(tf.data.Dataset.list_files(file_pattern))\n",
        "        .map(\n",
        "            read_example,\n",
        "            num_parallel_calls=tf.data.AUTOTUNE,\n",
        "            deterministic=False,\n",
        "        )\n",
        "        .shuffle(batch_size * 10)\n",
        "        .prefetch(buffer_size=tf.data.AUTOTUNE)\n",
        "        .batch(batch_size)\n",
        "    )\n"
      ]
    },
    {
      "cell_type": "markdown",
      "metadata": {
        "id": "CXDitxfVtD0Q"
      },
      "source": [
        "## Implement the projection head\n",
        "\n",
        "The projection head is used to transform the image and the text embeddings to\n",
        "the same embedding space with the same dimensionality."
      ]
    },
    {
      "cell_type": "code",
      "execution_count": null,
      "metadata": {
        "id": "DXefViaOtD0Q"
      },
      "outputs": [],
      "source": [
        "\n",
        "def project_embeddings(\n",
        "    embeddings, num_projection_layers, projection_dims, dropout_rate\n",
        "):\n",
        "    projected_embeddings = layers.Dense(units=projection_dims)(embeddings)\n",
        "    for _ in range(num_projection_layers):\n",
        "        x = tf.nn.gelu(projected_embeddings)\n",
        "        x = layers.Dense(projection_dims)(x)\n",
        "        x = layers.Dropout(dropout_rate)(x)\n",
        "        x = layers.Add()([projected_embeddings, x])\n",
        "        projected_embeddings = layers.LayerNormalization()(x)\n",
        "    return projected_embeddings\n"
      ]
    },
    {
      "cell_type": "markdown",
      "source": [],
      "metadata": {
        "id": "6FyQ7kse6NYB"
      }
    },
    {
      "cell_type": "markdown",
      "metadata": {
        "id": "FlJmuTYYtD0Q"
      },
      "source": [
        "## Implement the vision encoder\n",
        "\n",
        "In this example, we use [Xception](https://keras.io/api/applications/xception/)\n",
        "from [Keras Applications](https://keras.io/api/applications/) as the base for the\n",
        "vision encoder."
      ]
    },
    {
      "cell_type": "markdown",
      "source": [
        "Xception is a deep convolutional neural network architecture. It uses depthwise seperable convolutions. Unlike other traditional convolutionals that apply a single convolutional filter to all input channels, depthwise seperable convolutions apply seperate convolutional filters to each input channel before combining them. Xception model contains 71 convolutional layers."
      ],
      "metadata": {
        "id": "Kt-a5sU94oz6"
      }
    },
    {
      "cell_type": "code",
      "execution_count": null,
      "metadata": {
        "id": "qxsiwAKGtD0Q"
      },
      "outputs": [],
      "source": [
        "\n",
        "def create_vision_encoder(\n",
        "    num_projection_layers, projection_dims, dropout_rate, trainable=False\n",
        "):\n",
        "    # Load the pre-trained Xception model to be used as the base encoder.\n",
        "    xception = keras.applications.Xception(\n",
        "        include_top=False, weights=\"imagenet\", pooling=\"avg\"\n",
        "    )\n",
        "    # Set the trainability of the base encoder.\n",
        "    for layer in xception.layers:\n",
        "        layer.trainable = trainable\n",
        "    # Receive the images as inputs.\n",
        "    inputs = layers.Input(shape=(299, 299, 3), name=\"image_input\")\n",
        "    # Preprocess the input image.\n",
        "    xception_input = tf.keras.applications.xception.preprocess_input(inputs)\n",
        "    # Generate the embeddings for the images using the xception model.\n",
        "    embeddings = xception(xception_input)\n",
        "    # Project the embeddings produced by the model.\n",
        "    outputs = project_embeddings(\n",
        "        embeddings, num_projection_layers, projection_dims, dropout_rate\n",
        "    )\n",
        "    # Create the vision encoder model.\n",
        "    return keras.Model(inputs, outputs, name=\"vision_encoder\")\n"
      ]
    },
    {
      "cell_type": "markdown",
      "metadata": {
        "id": "F0laIIHktD0R"
      },
      "source": [
        "## Implement the text encoder\n",
        "\n",
        "We use [BERT](https://tfhub.dev/tensorflow/small_bert/bert_en_uncased_L-12_H-256_A-4/1)\n",
        "from [TensorFlow Hub](https://tfhub.dev) as the text encoder"
      ]
    },
    {
      "cell_type": "code",
      "execution_count": null,
      "metadata": {
        "id": "7kz03v0vtD0R"
      },
      "outputs": [],
      "source": [
        "\n",
        "# def create_text_encoder(\n",
        "#     num_projection_layers, projection_dims, dropout_rate, trainable=False\n",
        "# ):\n",
        "#     # Load the BERT preprocessing module.\n",
        "#     preprocess = hub.KerasLayer(\n",
        "#         \"https://tfhub.dev/tensorflow/bert_en_uncased_preprocess/2\",\n",
        "#         name=\"text_preprocessing\",\n",
        "#     )\n",
        "#     # Load the pre-trained BERT model to be used as the base encoder.\n",
        "#     bert = hub.KerasLayer(\n",
        "#         \"https://tfhub.dev/tensorflow/small_bert/bert_en_uncased_L-4_H-512_A-8/1\",\n",
        "#         \"bert\",\n",
        "#     )\n",
        "#     # Set the trainability of the base encoder.\n",
        "#     bert.trainable = trainable\n",
        "#     # Receive the text as inputs.\n",
        "#     inputs = layers.Input(shape=(), dtype=tf.string, name=\"text_input\")\n",
        "#     # Preprocess the text.\n",
        "#     bert_inputs = preprocess(inputs)\n",
        "#     # Generate embeddings for the preprocessed text using the BERT model.\n",
        "#     embeddings = bert(bert_inputs)[\"pooled_output\"]\n",
        "#     # Project the embeddings produced by the model.\n",
        "#     outputs = project_embeddings(\n",
        "#         embeddings, num_projection_layers, projection_dims, dropout_rate\n",
        "#     )\n",
        "#     # Create the text encoder model.\n",
        "#     return keras.Model(inputs, outputs, name=\"text_encoder\")\n"
      ]
    },
    {
      "cell_type": "markdown",
      "metadata": {
        "id": "aeiJzfHltD0R"
      },
      "source": [
        "## Implement the dual encoder\n",
        "\n",
        "To calculate the loss, we compute the pairwise dot-product similarity between\n",
        "each `caption_i` and `images_j` in the batch as the predictions.\n",
        "The target similarity between `caption_i`  and `image_j` is computed as\n",
        "the average of the (dot-product similarity between `caption_i` and `caption_j`)\n",
        "and (the dot-product similarity between `image_i` and `image_j`).\n",
        "Then, we use crossentropy to compute the loss between the targets and the predictions."
      ]
    },
    {
      "cell_type": "code",
      "execution_count": null,
      "metadata": {
        "id": "CS22ezU3tD0R"
      },
      "outputs": [],
      "source": [
        "\n",
        "class Encoder(keras.Model):\n",
        "    def __init__(self, text_encoder, image_encoder, temperature=1.0, **kwargs):\n",
        "        super().__init__(**kwargs)\n",
        "        self.image_encoder = image_encoder\n",
        "        self.temperature = temperature\n",
        "        self.loss_tracker = keras.metrics.Mean(name=\"loss\")\n",
        "\n",
        "    @property\n",
        "    def metrics(self):\n",
        "        return [self.loss_tracker]\n",
        "\n",
        "    def call(self, features, training=False):\n",
        "        # Place each encoder on a separate GPU (if available).\n",
        "        # TF will fallback on available devices if there are fewer than 2 GPUs.\n",
        "        # with tf.device(\"/gpu:0\"):\n",
        "        #     # Get the embeddings for the captions.\n",
        "        #     caption_embeddings = text_encoder(features[\"caption\"], training=training)\n",
        "        with tf.device(\"/gpu:1\"):\n",
        "            # Get the embeddings for the images.\n",
        "            image_embeddings = vision_encoder(features[\"image\"], training=training)\n",
        "        return image_embeddings\n",
        "\n",
        "    def compute_loss(self, image_embeddings):\n",
        "        # logits[i][j] is the dot_similarity(caption_i, image_j).\n",
        "        # logits = (\n",
        "        #     tf.matmul(image_embeddings,image_embeddings, transpose_b=True)\n",
        "        #     / self.temperature\n",
        "        # )\n",
        "        # images_similarity[i][j] is the dot_similarity(image_i, image_j).\n",
        "        images_similarity = tf.matmul(\n",
        "            image_embeddings, image_embeddings, transpose_b=True\n",
        "        )\n",
        "        # captions_similarity[i][j] is the dot_similarity(caption_i, caption_j).\n",
        "        # captions_similarity = tf.matmul(\n",
        "        #     caption_embeddings, caption_embeddings, transpose_b=True\n",
        "        # )\n",
        "        # targets[i][j] = avarage dot_similarity(caption_i, caption_j) and dot_similarity(image_i, image_j).\n",
        "        targets = keras.activations.softmax(\n",
        "             images_similarity\n",
        "        )\n",
        "        # # Compute the loss for the captions using crossentropy\n",
        "        # captions_loss = keras.losses.categorical_crossentropy(\n",
        "        #     y_true=targets, y_pred=images_similarity, from_logits=True\n",
        "        # )\n",
        "        # Compute the loss for the images using crossentropy\n",
        "        images_loss = keras.losses.categorical_crossentropy(\n",
        "            y_true=tf.transpose(targets), y_pred=tf.transpose(images_embeddings), from_logits=True\n",
        "        )\n",
        "        # Return the mean of the loss over the batch.\n",
        "        return images_loss\n",
        "\n",
        "    def train_step(self, features):\n",
        "        with tf.GradientTape() as tape:\n",
        "            # Forward pass\n",
        "            image_embeddings = self(features, training=True)\n",
        "            loss = self.compute_loss(image_embeddings)\n",
        "        # Backward pass\n",
        "        gradients = tape.gradient(loss, self.trainable_variables)\n",
        "        self.optimizer.apply_gradients(zip(gradients, self.trainable_variables))\n",
        "        # Monitor loss\n",
        "        self.loss_tracker.update_state(loss)\n",
        "        return {\"loss\": self.loss_tracker.result()}\n",
        "\n",
        "    def test_step(self, features):\n",
        "        image_embeddings = self(features, training=False)\n",
        "        loss = self.compute_loss(image_embeddings)\n",
        "        self.loss_tracker.update_state(loss)\n",
        "        return {\"loss\": self.loss_tracker.result()}\n"
      ]
    },
    {
      "cell_type": "markdown",
      "metadata": {
        "id": "B1l5_KiatD0R"
      },
      "source": [
        "## Train the encoder model\n",
        "\n",
        "In this experiment, we freeze the base encoders for text and images, and make only\n",
        "the projection head trainable."
      ]
    },
    {
      "cell_type": "code",
      "execution_count": null,
      "metadata": {
        "id": "Z8r3bcMQtD0S",
        "colab": {
          "base_uri": "https://localhost:8080/",
          "height": 300
        },
        "outputId": "8395928b-7882-4fd7-d69e-9cc3ae6a0870"
      },
      "outputs": [
        {
          "output_type": "stream",
          "name": "stdout",
          "text": [
            "Downloading data from https://storage.googleapis.com/tensorflow/keras-applications/xception/xception_weights_tf_dim_ordering_tf_kernels_notop.h5\n",
            "83683744/83683744 [==============================] - 1s 0us/step\n"
          ]
        },
        {
          "output_type": "error",
          "ename": "TypeError",
          "evalue": "ignored",
          "traceback": [
            "\u001b[0;31m---------------------------------------------------------------------------\u001b[0m",
            "\u001b[0;31mTypeError\u001b[0m                                 Traceback (most recent call last)",
            "\u001b[0;32m<ipython-input-47-b8bf9e620754>\u001b[0m in \u001b[0;36m<cell line: 10>\u001b[0;34m()\u001b[0m\n\u001b[1;32m      8\u001b[0m \u001b[0;31m#     num_projection_layers=1, projection_dims=256, dropout_rate=0.1\u001b[0m\u001b[0;34m\u001b[0m\u001b[0;34m\u001b[0m\u001b[0m\n\u001b[1;32m      9\u001b[0m \u001b[0;31m# )\u001b[0m\u001b[0;34m\u001b[0m\u001b[0;34m\u001b[0m\u001b[0m\n\u001b[0;32m---> 10\u001b[0;31m \u001b[0mdual_encoder\u001b[0m \u001b[0;34m=\u001b[0m \u001b[0mDualEncoder\u001b[0m\u001b[0;34m(\u001b[0m\u001b[0mvision_encoder\u001b[0m\u001b[0;34m,\u001b[0m \u001b[0mtemperature\u001b[0m\u001b[0;34m=\u001b[0m\u001b[0;36m0.05\u001b[0m\u001b[0;34m)\u001b[0m\u001b[0;34m\u001b[0m\u001b[0;34m\u001b[0m\u001b[0m\n\u001b[0m\u001b[1;32m     11\u001b[0m dual_encoder.compile(\n\u001b[1;32m     12\u001b[0m     \u001b[0moptimizer\u001b[0m\u001b[0;34m=\u001b[0m\u001b[0mtfa\u001b[0m\u001b[0;34m.\u001b[0m\u001b[0moptimizers\u001b[0m\u001b[0;34m.\u001b[0m\u001b[0mAdamW\u001b[0m\u001b[0;34m(\u001b[0m\u001b[0mlearning_rate\u001b[0m\u001b[0;34m=\u001b[0m\u001b[0;36m0.001\u001b[0m\u001b[0;34m,\u001b[0m \u001b[0mweight_decay\u001b[0m\u001b[0;34m=\u001b[0m\u001b[0;36m0.001\u001b[0m\u001b[0;34m)\u001b[0m\u001b[0;34m\u001b[0m\u001b[0;34m\u001b[0m\u001b[0m\n",
            "\u001b[0;31mTypeError\u001b[0m: DualEncoder.__init__() missing 1 required positional argument: 'image_encoder'"
          ]
        }
      ],
      "source": [
        "num_epochs = 5  # In practice, train for at least 30 epochs\n",
        "batch_size = 256\n",
        "\n",
        "vision_encoder = create_vision_encoder(\n",
        "    num_projection_layers=1, projection_dims=256, dropout_rate=0.1\n",
        ")\n",
        "# text_encoder = create_text_encoder(\n",
        "#     num_projection_layers=1, projection_dims=256, dropout_rate=0.1\n",
        "# )\n",
        "encoder = Encoder(vision_encoder, temperature=0.05)\n",
        "encoder.compile(\n",
        "    optimizer=tfa.optimizers.AdamW(learning_rate=0.001, weight_decay=0.001)\n",
        ")"
      ]
    },
    {
      "cell_type": "markdown",
      "metadata": {
        "id": "dTLUA0JttD0S"
      },
      "source": [
        "Note that training the model with 60,000 image-caption pairs, with a batch size of 256,\n",
        "takes around 12 minutes per epoch using a V100 GPU accelerator. If 2 GPUs are available,\n",
        "the epoch takes around 8 minutes."
      ]
    },
    {
      "cell_type": "code",
      "execution_count": null,
      "metadata": {
        "id": "lOkbtStStD0S"
      },
      "outputs": [],
      "source": [
        "print(f\"Number of GPUs: {len(tf.config.list_physical_devices('GPU'))}\")\n",
        "# print(f\"Number of examples (caption-image pairs): {train_example_count}\")\n",
        "print(f\"Batch size: {batch_size}\")\n",
        "print(f\"Steps per epoch: {int(np.ceil(train_example_count / batch_size))}\")\n",
        "train_dataset = get_dataset(os.path.join(tfrecords_dir, \"train-*.tfrecord\"), batch_size)\n",
        "valid_dataset = get_dataset(os.path.join(tfrecords_dir, \"valid-*.tfrecord\"), batch_size)\n",
        "# Create a learning rate scheduler callback.\n",
        "reduce_lr = keras.callbacks.ReduceLROnPlateau(\n",
        "    monitor=\"val_loss\", factor=0.2, patience=3\n",
        ")\n",
        "# Create an early stopping callback.\n",
        "early_stopping = tf.keras.callbacks.EarlyStopping(\n",
        "    monitor=\"val_loss\", patience=5, restore_best_weights=True\n",
        ")\n",
        "history = dual_encoder.fit(\n",
        "    train_dataset,\n",
        "    epochs=num_epochs,\n",
        "    validation_data=valid_dataset,\n",
        "    callbacks=[reduce_lr, early_stopping],\n",
        ")\n",
        "print(\"Training completed. Saving vision encoder...\")\n",
        "vision_encoder.save(\"vision_encoder\")\n",
        "\n",
        "print(\"Models are saved.\")"
      ]
    },
    {
      "cell_type": "markdown",
      "metadata": {
        "id": "JUzfwXdrtD0S"
      },
      "source": [
        "Plotting the training loss:"
      ]
    },
    {
      "cell_type": "code",
      "execution_count": null,
      "metadata": {
        "id": "EP_qmB0VtD0S"
      },
      "outputs": [],
      "source": [
        "plt.plot(history.history[\"loss\"])\n",
        "plt.plot(history.history[\"val_loss\"])\n",
        "plt.ylabel(\"Loss\")\n",
        "plt.xlabel(\"Epoch\")\n",
        "plt.legend([\"train\", \"valid\"], loc=\"upper right\")\n",
        "plt.show()"
      ]
    },
    {
      "cell_type": "markdown",
      "metadata": {
        "id": "A4gwpBCwtD0S"
      },
      "source": [
        "## Search for images using natural language queries\n",
        "\n",
        "We can then retrieve images corresponding to natural language queries via\n",
        "the following steps:\n",
        "\n",
        "1. Generate embeddings for the images by feeding them into the `vision_encoder`.\n",
        "2. Feed the natural language query to the `text_encoder` to generate a query embedding.\n",
        "3. Compute the similarity between the query embedding and the image embeddings\n",
        "in the index to retrieve the indices of the top matches.\n",
        "4. Look up the paths of the top matching images to display them.\n",
        "\n",
        "Note that, after training the `dual encoder`, only the fine-tuned `vision_encoder`\n",
        "and `text_encoder` models will be used, while the `dual_encoder` model will be discarded."
      ]
    },
    {
      "cell_type": "markdown",
      "metadata": {
        "id": "3Bv8U9UAtD0T"
      },
      "source": [
        "### Generate embeddings for the images\n",
        "\n",
        "We load the images and feed them into the `vision_encoder` to generate their embeddings.\n",
        "In large scale systems, this step is performed using a parallel data processing framework,\n",
        "such as [Apache Spark](https://spark.apache.org) or [Apache Beam](https://beam.apache.org).\n",
        "Generating the image embeddings may take several minutes."
      ]
    },
    {
      "cell_type": "code",
      "execution_count": null,
      "metadata": {
        "id": "cJiIHJRCtD0T"
      },
      "outputs": [],
      "source": [
        "print(\"Loading vision and text encoders...\")\n",
        "vision_encoder = keras.models.load_model(\"vision_encoder\")\n",
        "print(\"Models are loaded.\")\n",
        "\n",
        "\n",
        "def read_image(image_path):\n",
        "    image_array = tf.image.decode_jpeg(tf.io.read_file(image_path), channels=3)\n",
        "    return tf.image.resize(image_array, (299, 299))\n",
        "\n",
        "\n",
        "print(f\"Generating embeddings for {len(image_paths)} images...\")\n",
        "image_embeddings = vision_encoder.predict(\n",
        "    tf.data.Dataset.from_tensor_slices(image_paths).map(read_image).batch(batch_size),\n",
        "    verbose=1,\n",
        ")\n",
        "print(f\"Image embeddings shape: {image_embeddings.shape}.\")"
      ]
    },
    {
      "cell_type": "markdown",
      "metadata": {
        "id": "65Eyn0FDtD0T"
      },
      "source": [
        "### Retrieve relevant images\n",
        "\n",
        "In this example, we use exact matching by computing the dot product similarity\n",
        "between the input query embedding and the image embeddings, and retrieve the top k\n",
        "matches. However, *approximate* similarity matching, using frameworks like\n",
        "[ScaNN](https://github.com/google-research/google-research/tree/master/scann),\n",
        "[Annoy](https://github.com/spotify/annoy), or [Faiss](https://github.com/facebookresearch/faiss)\n",
        "is preferred in real-time use cases to scale with a large number of images."
      ]
    },
    {
      "cell_type": "code",
      "execution_count": null,
      "metadata": {
        "id": "NcAg0UDBtD0T"
      },
      "outputs": [],
      "source": [
        "\n",
        "def find_matches(image_embeddings, img_queries, k=9, normalize=True):\n",
        "    # Get the embedding for the query.\n",
        "    query_embedding = text_encoder(tf.convert_to_tensor(queries))\n",
        "    # Normalize the query and the image embeddings.\n",
        "    if normalize:\n",
        "        image_embeddings = tf.math.l2_normalize(image_embeddings, axis=1)\n",
        "        img_query_embedding = tf.math.l2_normalize(img_query_embedding, axis=1)\n",
        "    # Compute the dot product between the query and the image embeddings.\n",
        "    dot_similarity = tf.matmul(img_query_embedding, image_embeddings, transpose_b=True)\n",
        "    # Retrieve top k indices.\n",
        "    results = tf.math.top_k(dot_similarity, k).indices.numpy()\n",
        "    # Return matching image paths.\n",
        "    return [[image_paths[idx] for idx in indices] for indices in results]\n"
      ]
    },
    {
      "cell_type": "markdown",
      "metadata": {
        "id": "slXjOiGKtD0T"
      },
      "source": [
        "Set the `query` variable to the type of images you want to search for.\n",
        "Try things like: 'a plate of healthy food',\n",
        "'a woman wearing a hat is walking down a sidewalk',\n",
        "'a bird sits near to the water', or 'wild animals are standing in a field'."
      ]
    },
    {
      "cell_type": "code",
      "execution_count": null,
      "metadata": {
        "id": "FvtJDSAVtD0T"
      },
      "outputs": [],
      "source": [
        "#here add image query path\n",
        "# query =\n",
        "matches = find_matches(image_embeddings, [query], normalize=True)[0]\n",
        "\n",
        "plt.figure(figsize=(20, 20))\n",
        "for i in range(9):\n",
        "    ax = plt.subplot(3, 3, i + 1)\n",
        "    plt.imshow(mpimg.imread(matches[i]))\n",
        "    plt.axis(\"off\")\n"
      ]
    },
    {
      "cell_type": "markdown",
      "metadata": {
        "id": "1Aij_faqtD0T"
      },
      "source": [
        "## Evaluate the retrieval quality\n",
        "\n",
        "To evaluate the dual encoder model, we use the captions as queries.\n",
        "We use the out-of-training-sample images and captions to evaluate the retrieval quality,\n",
        "using top k accuracy. A true prediction is counted if, for a given caption, its associated image\n",
        "is retrieved within the top k matches."
      ]
    },
    {
      "cell_type": "code",
      "execution_count": null,
      "metadata": {
        "id": "CKMJhrRktD0U"
      },
      "outputs": [],
      "source": [
        "\n",
        "def compute_top_k_accuracy(image_paths, k=100):\n",
        "    hits = 0\n",
        "    num_batches = int(np.ceil(len(image_paths) / batch_size))\n",
        "    for idx in tqdm(range(num_batches)):\n",
        "        start_idx = idx * batch_size\n",
        "        end_idx = start_idx + batch_size\n",
        "        current_image_paths = image_paths[start_idx:end_idx]\n",
        "        queries = [\n",
        "            image_path_to_caption[image_path][0] for image_path in current_image_paths\n",
        "        ]\n",
        "        result = find_matches(image_embeddings, queries, k)\n",
        "        hits += sum(\n",
        "            [\n",
        "                image_path in matches\n",
        "                for (image_path, matches) in list(zip(current_image_paths, result))\n",
        "            ]\n",
        "        )\n",
        "\n",
        "    return hits / len(image_paths)\n",
        "\n",
        "\n",
        "print(\"Scoring training data...\")\n",
        "train_accuracy = compute_top_k_accuracy(train_image_paths)\n",
        "print(f\"Train accuracy: {round(train_accuracy * 100, 3)}%\")\n",
        "\n",
        "print(\"Scoring evaluation data...\")\n",
        "eval_accuracy = compute_top_k_accuracy(image_paths[train_size:])\n",
        "print(f\"Eval accuracy: {round(eval_accuracy * 100, 3)}%\")\n"
      ]
    },
    {
      "cell_type": "markdown",
      "metadata": {
        "id": "Gcnr03NVtD0U"
      },
      "source": [
        "## Final remarks\n",
        "\n",
        "You can obtain better results by increasing the size of the training sample,\n",
        "train for more  epochs, explore other base encoders for images and text,\n",
        "set the base encoders to be trainable, and tune the hyperparameters,\n",
        "especially the `temperature` for the softmax in the loss computation.\n",
        "\n",
        "Example available on HuggingFace\n",
        "\n",
        "| Trained Model | Demo |\n",
        "| :--: | :--: |\n",
        "| [![Generic badge](https://img.shields.io/badge/%F0%9F%A4%97%20Model-nl%20image%20search-black.svg)](https://huggingface.co/keras-io/dual-encoder-image-search) | [![Generic badge](https://img.shields.io/badge/%F0%9F%A4%97%20Spaces-nl%20image%20search-black.svg)](https://huggingface.co/spaces/keras-io/dual-encoder-image-search) |\n"
      ]
    }
  ],
  "metadata": {
    "accelerator": "GPU",
    "colab": {
      "provenance": [],
      "include_colab_link": true
    },
    "kernelspec": {
      "display_name": "Python 3",
      "language": "python",
      "name": "python3"
    },
    "language_info": {
      "codemirror_mode": {
        "name": "ipython",
        "version": 3
      },
      "file_extension": ".py",
      "mimetype": "text/x-python",
      "name": "python",
      "nbconvert_exporter": "python",
      "pygments_lexer": "ipython3",
      "version": "3.7.0"
    }
  },
  "nbformat": 4,
  "nbformat_minor": 0
}